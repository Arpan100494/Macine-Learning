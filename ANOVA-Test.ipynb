{
 "cells": [
  {
   "cell_type": "markdown",
   "metadata": {},
   "source": [
    "# DATE:20/03/2019"
   ]
  },
  {
   "cell_type": "markdown",
   "metadata": {},
   "source": [
    "### ANOVA - one way analysis of varience"
   ]
  },
  {
   "cell_type": "markdown",
   "metadata": {},
   "source": [
    "one category and one numerical is called one way,we will check wheather the vaarience or difference\n",
    "between two or more groups and sample is normally distributed"
   ]
  },
  {
   "cell_type": "markdown",
   "metadata": {},
   "source": [
    "if more than one categorical column is compare with one numerical column is called two way anova"
   ]
  },
  {
   "cell_type": "markdown",
   "metadata": {},
   "source": [
    "have one group and u are double-testing that same group\n",
    "you are testing one set of individuals before and after they take medication to see if it works or not"
   ]
  },
  {
   "cell_type": "markdown",
   "metadata": {},
   "source": [
    "two groups or more groups, and the members of those groups are doing more than one thing 2 way anova with replication"
   ]
  },
  {
   "cell_type": "markdown",
   "metadata": {},
   "source": [
    "when null hypothesis rejected then we will go for turky hsd test"
   ]
  },
  {
   "cell_type": "markdown",
   "metadata": {},
   "source": [
    "hsd:honestly significant difference"
   ]
  },
  {
   "cell_type": "markdown",
   "metadata": {},
   "source": [
    "# ============================================================"
   ]
  },
  {
   "cell_type": "code",
   "execution_count": 1,
   "metadata": {},
   "outputs": [],
   "source": [
    "from pydataset import data\n",
    "import scipy.stats as stats\n",
    "from statsmodels.stats.multicomp import pairwise_tukeyhsd"
   ]
  },
  {
   "cell_type": "code",
   "execution_count": 1,
   "metadata": {},
   "outputs": [],
   "source": [
    "import pandas as pd\n",
    "import numpy as np"
   ]
  },
  {
   "cell_type": "code",
   "execution_count": 2,
   "metadata": {},
   "outputs": [
    {
     "data": {
      "text/html": [
       "<div>\n",
       "<style scoped>\n",
       "    .dataframe tbody tr th:only-of-type {\n",
       "        vertical-align: middle;\n",
       "    }\n",
       "\n",
       "    .dataframe tbody tr th {\n",
       "        vertical-align: top;\n",
       "    }\n",
       "\n",
       "    .dataframe thead th {\n",
       "        text-align: right;\n",
       "    }\n",
       "</style>\n",
       "<table border=\"1\" class=\"dataframe\">\n",
       "  <thead>\n",
       "    <tr style=\"text-align: right;\">\n",
       "      <th></th>\n",
       "      <th>weight</th>\n",
       "      <th>feed</th>\n",
       "    </tr>\n",
       "  </thead>\n",
       "  <tbody>\n",
       "    <tr>\n",
       "      <th>1</th>\n",
       "      <td>179</td>\n",
       "      <td>horsebean</td>\n",
       "    </tr>\n",
       "    <tr>\n",
       "      <th>2</th>\n",
       "      <td>160</td>\n",
       "      <td>horsebean</td>\n",
       "    </tr>\n",
       "    <tr>\n",
       "      <th>3</th>\n",
       "      <td>136</td>\n",
       "      <td>horsebean</td>\n",
       "    </tr>\n",
       "    <tr>\n",
       "      <th>4</th>\n",
       "      <td>227</td>\n",
       "      <td>horsebean</td>\n",
       "    </tr>\n",
       "    <tr>\n",
       "      <th>5</th>\n",
       "      <td>217</td>\n",
       "      <td>horsebean</td>\n",
       "    </tr>\n",
       "  </tbody>\n",
       "</table>\n",
       "</div>"
      ],
      "text/plain": [
       "   weight       feed\n",
       "1     179  horsebean\n",
       "2     160  horsebean\n",
       "3     136  horsebean\n",
       "4     227  horsebean\n",
       "5     217  horsebean"
      ]
     },
     "execution_count": 2,
     "metadata": {},
     "output_type": "execute_result"
    }
   ],
   "source": [
    "#importing inbuild  dataset directly \n",
    "df = data('chickwts')\n",
    "df.head()"
   ]
  },
  {
   "cell_type": "code",
   "execution_count": 12,
   "metadata": {},
   "outputs": [
    {
     "data": {
      "text/html": [
       "<div>\n",
       "<style scoped>\n",
       "    .dataframe tbody tr th:only-of-type {\n",
       "        vertical-align: middle;\n",
       "    }\n",
       "\n",
       "    .dataframe tbody tr th {\n",
       "        vertical-align: top;\n",
       "    }\n",
       "\n",
       "    .dataframe thead th {\n",
       "        text-align: right;\n",
       "    }\n",
       "</style>\n",
       "<table border=\"1\" class=\"dataframe\">\n",
       "  <thead>\n",
       "    <tr style=\"text-align: right;\">\n",
       "      <th></th>\n",
       "      <th>feed</th>\n",
       "      <th>count</th>\n",
       "    </tr>\n",
       "  </thead>\n",
       "  <tbody>\n",
       "    <tr>\n",
       "      <th>0</th>\n",
       "      <td>casein</td>\n",
       "      <td>12</td>\n",
       "    </tr>\n",
       "    <tr>\n",
       "      <th>1</th>\n",
       "      <td>horsebean</td>\n",
       "      <td>10</td>\n",
       "    </tr>\n",
       "    <tr>\n",
       "      <th>2</th>\n",
       "      <td>linseed</td>\n",
       "      <td>12</td>\n",
       "    </tr>\n",
       "    <tr>\n",
       "      <th>3</th>\n",
       "      <td>meatmeal</td>\n",
       "      <td>11</td>\n",
       "    </tr>\n",
       "    <tr>\n",
       "      <th>4</th>\n",
       "      <td>soybean</td>\n",
       "      <td>14</td>\n",
       "    </tr>\n",
       "    <tr>\n",
       "      <th>5</th>\n",
       "      <td>sunflower</td>\n",
       "      <td>12</td>\n",
       "    </tr>\n",
       "  </tbody>\n",
       "</table>\n",
       "</div>"
      ],
      "text/plain": [
       "        feed  count\n",
       "0     casein     12\n",
       "1  horsebean     10\n",
       "2    linseed     12\n",
       "3   meatmeal     11\n",
       "4    soybean     14\n",
       "5  sunflower     12"
      ]
     },
     "execution_count": 12,
     "metadata": {},
     "output_type": "execute_result"
    }
   ],
   "source": [
    "#sample size\n",
    "df1 = df.groupby(\"feed\").size().reset_index()\n",
    "df1 = df1.rename(columns={0:\"count\"})\n",
    "df1"
   ]
  },
  {
   "cell_type": "code",
   "execution_count": 14,
   "metadata": {},
   "outputs": [
    {
     "data": {
      "text/html": [
       "<div>\n",
       "<style scoped>\n",
       "    .dataframe tbody tr th:only-of-type {\n",
       "        vertical-align: middle;\n",
       "    }\n",
       "\n",
       "    .dataframe tbody tr th {\n",
       "        vertical-align: top;\n",
       "    }\n",
       "\n",
       "    .dataframe thead th {\n",
       "        text-align: right;\n",
       "    }\n",
       "</style>\n",
       "<table border=\"1\" class=\"dataframe\">\n",
       "  <thead>\n",
       "    <tr style=\"text-align: right;\">\n",
       "      <th></th>\n",
       "      <th>feed</th>\n",
       "      <th>weight</th>\n",
       "    </tr>\n",
       "  </thead>\n",
       "  <tbody>\n",
       "    <tr>\n",
       "      <th>0</th>\n",
       "      <td>casein</td>\n",
       "      <td>323.583333</td>\n",
       "    </tr>\n",
       "    <tr>\n",
       "      <th>1</th>\n",
       "      <td>horsebean</td>\n",
       "      <td>160.200000</td>\n",
       "    </tr>\n",
       "    <tr>\n",
       "      <th>2</th>\n",
       "      <td>linseed</td>\n",
       "      <td>218.750000</td>\n",
       "    </tr>\n",
       "    <tr>\n",
       "      <th>3</th>\n",
       "      <td>meatmeal</td>\n",
       "      <td>276.909091</td>\n",
       "    </tr>\n",
       "    <tr>\n",
       "      <th>4</th>\n",
       "      <td>soybean</td>\n",
       "      <td>246.428571</td>\n",
       "    </tr>\n",
       "    <tr>\n",
       "      <th>5</th>\n",
       "      <td>sunflower</td>\n",
       "      <td>328.916667</td>\n",
       "    </tr>\n",
       "  </tbody>\n",
       "</table>\n",
       "</div>"
      ],
      "text/plain": [
       "        feed      weight\n",
       "0     casein  323.583333\n",
       "1  horsebean  160.200000\n",
       "2    linseed  218.750000\n",
       "3   meatmeal  276.909091\n",
       "4    soybean  246.428571\n",
       "5  sunflower  328.916667"
      ]
     },
     "execution_count": 14,
     "metadata": {},
     "output_type": "execute_result"
    }
   ],
   "source": [
    "#average weight of each sample\n",
    "df2 = df.groupby(\"feed\")[\"weight\"].mean().reset_index()\n",
    "df2"
   ]
  },
  {
   "cell_type": "code",
   "execution_count": 15,
   "metadata": {},
   "outputs": [],
   "source": [
    "# H0 : feed does not effect the weight of the chickens\n",
    "# H1 : feed does empact the weight of chickens\n",
    "#Elpha : 0.05"
   ]
  },
  {
   "cell_type": "code",
   "execution_count": 19,
   "metadata": {},
   "outputs": [],
   "source": [
    "#creating the array of weight for each category\n",
    "\n",
    "casein = df[\"weight\"][df[\"feed\"]==\"casein\"]\n",
    "horsebean = df[\"weight\"][df[\"feed\"]==\"horsebean\"]\n",
    "linseed = df[\"weight\"][df[\"feed\"]==\"linseed\"]\n",
    "meatmeal = df[\"weight\"][df[\"feed\"]==\"meatmeal\"]\n",
    "soybean = df[\"weight\"][df[\"feed\"]==\"soybean\"]\n",
    "sunflower = df[\"weight\"][df[\"feed\"]==\"sunflower\"]"
   ]
  },
  {
   "cell_type": "code",
   "execution_count": 20,
   "metadata": {},
   "outputs": [
    {
     "data": {
      "text/plain": [
       "F_onewayResult(statistic=15.364799774712534, pvalue=5.936419853471331e-10)"
      ]
     },
     "execution_count": 20,
     "metadata": {},
     "output_type": "execute_result"
    }
   ],
   "source": [
    "#creating annova model\n",
    "\n",
    "stats.f_oneway(casein,horsebean,linseed,meatmeal,soybean,sunflower)"
   ]
  },
  {
   "cell_type": "markdown",
   "metadata": {},
   "source": [
    "as p value less than 0.05 we will reject null hypothesis and alternative hypo is accepted"
   ]
  },
  {
   "cell_type": "markdown",
   "metadata": {},
   "source": [
    "now we need to refer the best feed for that we need turkey hsd test"
   ]
  },
  {
   "cell_type": "code",
   "execution_count": 23,
   "metadata": {},
   "outputs": [
    {
     "data": {
      "text/html": [
       "<table class=\"simpletable\">\n",
       "<caption>Multiple Comparison of Means - Tukey HSD,FWER=0.05</caption>\n",
       "<tr>\n",
       "   <th>group1</th>    <th>group2</th>   <th>meandiff</th>    <th>lower</th>     <th>upper</th>  <th>reject</th>\n",
       "</tr>\n",
       "<tr>\n",
       "   <td>casein</td>   <td>horsebean</td> <td>-163.3833</td> <td>-232.3445</td> <td>-94.4222</td>  <td>True</td> \n",
       "</tr>\n",
       "<tr>\n",
       "   <td>casein</td>    <td>linseed</td>  <td>-104.8333</td> <td>-170.5852</td> <td>-39.0814</td>  <td>True</td> \n",
       "</tr>\n",
       "<tr>\n",
       "   <td>casein</td>   <td>meatmeal</td>  <td>-46.6742</td>  <td>-113.9039</td>  <td>20.5554</td>  <td>False</td>\n",
       "</tr>\n",
       "<tr>\n",
       "   <td>casein</td>    <td>soybean</td>  <td>-77.1548</td>  <td>-140.5149</td> <td>-13.7947</td>  <td>True</td> \n",
       "</tr>\n",
       "<tr>\n",
       "   <td>casein</td>   <td>sunflower</td>  <td>5.3333</td>   <td>-60.4186</td>   <td>71.0852</td>  <td>False</td>\n",
       "</tr>\n",
       "<tr>\n",
       "  <td>horsebean</td>  <td>linseed</td>    <td>58.55</td>   <td>-10.4112</td>  <td>127.5112</td>  <td>False</td>\n",
       "</tr>\n",
       "<tr>\n",
       "  <td>horsebean</td> <td>meatmeal</td>  <td>116.7091</td>   <td>46.3375</td>  <td>187.0806</td>  <td>True</td> \n",
       "</tr>\n",
       "<tr>\n",
       "  <td>horsebean</td>  <td>soybean</td>   <td>86.2286</td>   <td>19.544</td>   <td>152.9132</td>  <td>True</td> \n",
       "</tr>\n",
       "<tr>\n",
       "  <td>horsebean</td> <td>sunflower</td> <td>168.7167</td>   <td>99.7555</td>  <td>237.6778</td>  <td>True</td> \n",
       "</tr>\n",
       "<tr>\n",
       "   <td>linseed</td>  <td>meatmeal</td>   <td>58.1591</td>   <td>-9.0705</td>  <td>125.3887</td>  <td>False</td>\n",
       "</tr>\n",
       "<tr>\n",
       "   <td>linseed</td>   <td>soybean</td>   <td>27.6786</td>  <td>-35.6815</td>   <td>91.0387</td>  <td>False</td>\n",
       "</tr>\n",
       "<tr>\n",
       "   <td>linseed</td>  <td>sunflower</td> <td>110.1667</td>   <td>44.4148</td>  <td>175.9186</td>  <td>True</td> \n",
       "</tr>\n",
       "<tr>\n",
       "  <td>meatmeal</td>   <td>soybean</td>  <td>-30.4805</td>  <td>-95.3729</td>   <td>34.4118</td>  <td>False</td>\n",
       "</tr>\n",
       "<tr>\n",
       "  <td>meatmeal</td>  <td>sunflower</td>  <td>52.0076</td>  <td>-15.2221</td>  <td>119.2372</td>  <td>False</td>\n",
       "</tr>\n",
       "<tr>\n",
       "   <td>soybean</td>  <td>sunflower</td>  <td>82.4881</td>   <td>19.128</td>   <td>145.8482</td>  <td>True</td> \n",
       "</tr>\n",
       "</table>"
      ],
      "text/plain": [
       "<class 'statsmodels.iolib.table.SimpleTable'>"
      ]
     },
     "execution_count": 23,
     "metadata": {},
     "output_type": "execute_result"
    }
   ],
   "source": [
    "HSD = pairwise_tukeyhsd(df.weight, df.feed, alpha=0.05)\n",
    "HSD.summary()"
   ]
  },
  {
   "cell_type": "markdown",
   "metadata": {},
   "source": [
    "from the above experiment caseien and soyabean are the best option to recomend but feeding anything does not mak any diffr"
   ]
  },
  {
   "cell_type": "markdown",
   "metadata": {},
   "source": [
    "# ============================================================="
   ]
  },
  {
   "cell_type": "code",
   "execution_count": 2,
   "metadata": {},
   "outputs": [],
   "source": [
    "tyre_data = pd.read_csv(\"./EDA_DATA/tyre.csv\")\n",
    "\n",
    "student_data = pd.read_excel(\"./EDA_DATA/Students Marks.xlsx\")"
   ]
  },
  {
   "cell_type": "markdown",
   "metadata": {},
   "source": [
    "### which tyre you supposed to reffer to the customer as best fit for mileage???"
   ]
  },
  {
   "cell_type": "code",
   "execution_count": 3,
   "metadata": {},
   "outputs": [
    {
     "data": {
      "text/html": [
       "<div>\n",
       "<style scoped>\n",
       "    .dataframe tbody tr th:only-of-type {\n",
       "        vertical-align: middle;\n",
       "    }\n",
       "\n",
       "    .dataframe tbody tr th {\n",
       "        vertical-align: top;\n",
       "    }\n",
       "\n",
       "    .dataframe thead th {\n",
       "        text-align: right;\n",
       "    }\n",
       "</style>\n",
       "<table border=\"1\" class=\"dataframe\">\n",
       "  <thead>\n",
       "    <tr style=\"text-align: right;\">\n",
       "      <th></th>\n",
       "      <th>Brands</th>\n",
       "      <th>Mileage</th>\n",
       "    </tr>\n",
       "  </thead>\n",
       "  <tbody>\n",
       "    <tr>\n",
       "      <th>0</th>\n",
       "      <td>Apollo</td>\n",
       "      <td>32.998</td>\n",
       "    </tr>\n",
       "    <tr>\n",
       "      <th>1</th>\n",
       "      <td>Apollo</td>\n",
       "      <td>36.435</td>\n",
       "    </tr>\n",
       "    <tr>\n",
       "      <th>2</th>\n",
       "      <td>Apollo</td>\n",
       "      <td>32.777</td>\n",
       "    </tr>\n",
       "    <tr>\n",
       "      <th>3</th>\n",
       "      <td>Apollo</td>\n",
       "      <td>37.637</td>\n",
       "    </tr>\n",
       "    <tr>\n",
       "      <th>4</th>\n",
       "      <td>Apollo</td>\n",
       "      <td>36.304</td>\n",
       "    </tr>\n",
       "  </tbody>\n",
       "</table>\n",
       "</div>"
      ],
      "text/plain": [
       "   Brands  Mileage\n",
       "0  Apollo   32.998\n",
       "1  Apollo   36.435\n",
       "2  Apollo   32.777\n",
       "3  Apollo   37.637\n",
       "4  Apollo   36.304"
      ]
     },
     "execution_count": 3,
     "metadata": {},
     "output_type": "execute_result"
    }
   ],
   "source": [
    "tyre_data.head()"
   ]
  },
  {
   "cell_type": "code",
   "execution_count": 4,
   "metadata": {},
   "outputs": [
    {
     "data": {
      "text/html": [
       "<div>\n",
       "<style scoped>\n",
       "    .dataframe tbody tr th:only-of-type {\n",
       "        vertical-align: middle;\n",
       "    }\n",
       "\n",
       "    .dataframe tbody tr th {\n",
       "        vertical-align: top;\n",
       "    }\n",
       "\n",
       "    .dataframe thead th {\n",
       "        text-align: right;\n",
       "    }\n",
       "</style>\n",
       "<table border=\"1\" class=\"dataframe\">\n",
       "  <thead>\n",
       "    <tr style=\"text-align: right;\">\n",
       "      <th></th>\n",
       "      <th>Students</th>\n",
       "      <th>Exam</th>\n",
       "      <th>Marks</th>\n",
       "    </tr>\n",
       "  </thead>\n",
       "  <tbody>\n",
       "    <tr>\n",
       "      <th>0</th>\n",
       "      <td>student1</td>\n",
       "      <td>IA</td>\n",
       "      <td>96</td>\n",
       "    </tr>\n",
       "    <tr>\n",
       "      <th>1</th>\n",
       "      <td>student1</td>\n",
       "      <td>FA</td>\n",
       "      <td>36</td>\n",
       "    </tr>\n",
       "    <tr>\n",
       "      <th>2</th>\n",
       "      <td>student2</td>\n",
       "      <td>IA</td>\n",
       "      <td>100</td>\n",
       "    </tr>\n",
       "    <tr>\n",
       "      <th>3</th>\n",
       "      <td>student2</td>\n",
       "      <td>FA</td>\n",
       "      <td>48</td>\n",
       "    </tr>\n",
       "    <tr>\n",
       "      <th>4</th>\n",
       "      <td>student3</td>\n",
       "      <td>IA</td>\n",
       "      <td>15</td>\n",
       "    </tr>\n",
       "  </tbody>\n",
       "</table>\n",
       "</div>"
      ],
      "text/plain": [
       "   Students Exam  Marks\n",
       "0  student1   IA     96\n",
       "1  student1   FA     36\n",
       "2  student2   IA    100\n",
       "3  student2   FA     48\n",
       "4  student3   IA     15"
      ]
     },
     "execution_count": 4,
     "metadata": {},
     "output_type": "execute_result"
    }
   ],
   "source": [
    "student_data.head()"
   ]
  },
  {
   "cell_type": "code",
   "execution_count": 24,
   "metadata": {},
   "outputs": [
    {
     "data": {
      "text/html": [
       "<div>\n",
       "<style scoped>\n",
       "    .dataframe tbody tr th:only-of-type {\n",
       "        vertical-align: middle;\n",
       "    }\n",
       "\n",
       "    .dataframe tbody tr th {\n",
       "        vertical-align: top;\n",
       "    }\n",
       "\n",
       "    .dataframe thead th {\n",
       "        text-align: right;\n",
       "    }\n",
       "</style>\n",
       "<table border=\"1\" class=\"dataframe\">\n",
       "  <thead>\n",
       "    <tr style=\"text-align: right;\">\n",
       "      <th></th>\n",
       "      <th>Brands</th>\n",
       "      <th>0</th>\n",
       "    </tr>\n",
       "  </thead>\n",
       "  <tbody>\n",
       "    <tr>\n",
       "      <th>0</th>\n",
       "      <td>Apollo</td>\n",
       "      <td>15</td>\n",
       "    </tr>\n",
       "    <tr>\n",
       "      <th>1</th>\n",
       "      <td>Bridgestone</td>\n",
       "      <td>15</td>\n",
       "    </tr>\n",
       "    <tr>\n",
       "      <th>2</th>\n",
       "      <td>CEAT</td>\n",
       "      <td>15</td>\n",
       "    </tr>\n",
       "    <tr>\n",
       "      <th>3</th>\n",
       "      <td>Falken</td>\n",
       "      <td>15</td>\n",
       "    </tr>\n",
       "  </tbody>\n",
       "</table>\n",
       "</div>"
      ],
      "text/plain": [
       "        Brands   0\n",
       "0       Apollo  15\n",
       "1  Bridgestone  15\n",
       "2         CEAT  15\n",
       "3       Falken  15"
      ]
     },
     "execution_count": 24,
     "metadata": {},
     "output_type": "execute_result"
    }
   ],
   "source": [
    "tyre_data.groupby(\"Brands\").size().reset_index()"
   ]
  },
  {
   "cell_type": "code",
   "execution_count": 25,
   "metadata": {},
   "outputs": [
    {
     "data": {
      "text/html": [
       "<div>\n",
       "<style scoped>\n",
       "    .dataframe tbody tr th:only-of-type {\n",
       "        vertical-align: middle;\n",
       "    }\n",
       "\n",
       "    .dataframe tbody tr th {\n",
       "        vertical-align: top;\n",
       "    }\n",
       "\n",
       "    .dataframe thead th {\n",
       "        text-align: right;\n",
       "    }\n",
       "</style>\n",
       "<table border=\"1\" class=\"dataframe\">\n",
       "  <thead>\n",
       "    <tr style=\"text-align: right;\">\n",
       "      <th></th>\n",
       "      <th>Brands</th>\n",
       "      <th>Mileage</th>\n",
       "    </tr>\n",
       "  </thead>\n",
       "  <tbody>\n",
       "    <tr>\n",
       "      <th>0</th>\n",
       "      <td>Apollo</td>\n",
       "      <td>34.799133</td>\n",
       "    </tr>\n",
       "    <tr>\n",
       "      <th>1</th>\n",
       "      <td>Bridgestone</td>\n",
       "      <td>31.780133</td>\n",
       "    </tr>\n",
       "    <tr>\n",
       "      <th>2</th>\n",
       "      <td>CEAT</td>\n",
       "      <td>34.761207</td>\n",
       "    </tr>\n",
       "    <tr>\n",
       "      <th>3</th>\n",
       "      <td>Falken</td>\n",
       "      <td>37.624667</td>\n",
       "    </tr>\n",
       "  </tbody>\n",
       "</table>\n",
       "</div>"
      ],
      "text/plain": [
       "        Brands    Mileage\n",
       "0       Apollo  34.799133\n",
       "1  Bridgestone  31.780133\n",
       "2         CEAT  34.761207\n",
       "3       Falken  37.624667"
      ]
     },
     "execution_count": 25,
     "metadata": {},
     "output_type": "execute_result"
    }
   ],
   "source": [
    "tyre_data2 = tyre_data.groupby(\"Brands\")[\"Mileage\"].mean().reset_index()\n",
    "tyre_data2"
   ]
  },
  {
   "cell_type": "code",
   "execution_count": 26,
   "metadata": {},
   "outputs": [],
   "source": [
    "# H0 : Brands does not effect the Mileage \n",
    "# H1 : Brands does empact the Mileage \n",
    "#Elpha : 0.05"
   ]
  },
  {
   "cell_type": "code",
   "execution_count": 30,
   "metadata": {},
   "outputs": [],
   "source": [
    "\n",
    "Apollo = tyre_data[\"Mileage\"][tyre_data[\"Brands\"]==\"Apollo\"]\n",
    "Bridgestone = tyre_data[\"Mileage\"][tyre_data[\"Brands\"]==\"Bridgestone\"]\n",
    "CEAT = tyre_data[\"Mileage\"][tyre_data[\"Brands\"]==\"CEAT\"]\n",
    "Falken = tyre_data[\"Mileage\"][tyre_data[\"Brands\"]==\"Falken\"]\n"
   ]
  },
  {
   "cell_type": "code",
   "execution_count": 31,
   "metadata": {},
   "outputs": [
    {
     "data": {
      "text/plain": [
       "F_onewayResult(statistic=17.941513342446925, pvalue=2.78098919789432e-08)"
      ]
     },
     "execution_count": 31,
     "metadata": {},
     "output_type": "execute_result"
    }
   ],
   "source": [
    "#creating annova model\n",
    "\n",
    "stats.f_oneway(Apollo,Bridgestone,CEAT,Falken)"
   ]
  },
  {
   "cell_type": "markdown",
   "metadata": {},
   "source": [
    "as p value less than 0.05 we will reject null hypothesis and alternative hypo is accepted\n",
    "\n",
    "now we need to refer the best feed for that we need turkey hsd test"
   ]
  },
  {
   "cell_type": "code",
   "execution_count": 33,
   "metadata": {},
   "outputs": [
    {
     "data": {
      "text/html": [
       "<table class=\"simpletable\">\n",
       "<caption>Multiple Comparison of Means - Tukey HSD,FWER=0.05</caption>\n",
       "<tr>\n",
       "    <th>group1</th>      <th>group2</th>    <th>meandiff</th>  <th>lower</th>   <th>upper</th>  <th>reject</th>\n",
       "</tr>\n",
       "<tr>\n",
       "    <td>Apollo</td>    <td>Bridgestone</td>  <td>-3.019</td>  <td>-5.1289</td> <td>-0.9091</td>  <td>True</td> \n",
       "</tr>\n",
       "<tr>\n",
       "    <td>Apollo</td>       <td>CEAT</td>      <td>-0.0379</td> <td>-2.1478</td>  <td>2.072</td>   <td>False</td>\n",
       "</tr>\n",
       "<tr>\n",
       "    <td>Apollo</td>      <td>Falken</td>     <td>2.8255</td>  <td>0.7156</td>  <td>4.9354</td>   <td>True</td> \n",
       "</tr>\n",
       "<tr>\n",
       "  <td>Bridgestone</td>    <td>CEAT</td>      <td>2.9811</td>  <td>0.8712</td>   <td>5.091</td>   <td>True</td> \n",
       "</tr>\n",
       "<tr>\n",
       "  <td>Bridgestone</td>   <td>Falken</td>     <td>5.8445</td>  <td>3.7346</td>  <td>7.9544</td>   <td>True</td> \n",
       "</tr>\n",
       "<tr>\n",
       "     <td>CEAT</td>       <td>Falken</td>     <td>2.8635</td>  <td>0.7536</td>  <td>4.9734</td>   <td>True</td> \n",
       "</tr>\n",
       "</table>"
      ],
      "text/plain": [
       "<class 'statsmodels.iolib.table.SimpleTable'>"
      ]
     },
     "execution_count": 33,
     "metadata": {},
     "output_type": "execute_result"
    }
   ],
   "source": [
    "HSD1 = pairwise_tukeyhsd(tyre_data.Mileage, tyre_data.Brands, alpha=0.05)\n",
    "HSD1.summary()"
   ]
  },
  {
   "cell_type": "markdown",
   "metadata": {},
   "source": [
    "falken tyre will be best tyre for milage purpose"
   ]
  },
  {
   "cell_type": "markdown",
   "metadata": {},
   "source": [
    "# ============================================================"
   ]
  },
  {
   "cell_type": "markdown",
   "metadata": {},
   "source": [
    "## TWO way Anova test"
   ]
  },
  {
   "cell_type": "code",
   "execution_count": 34,
   "metadata": {},
   "outputs": [
    {
     "data": {
      "text/html": [
       "<div>\n",
       "<style scoped>\n",
       "    .dataframe tbody tr th:only-of-type {\n",
       "        vertical-align: middle;\n",
       "    }\n",
       "\n",
       "    .dataframe tbody tr th {\n",
       "        vertical-align: top;\n",
       "    }\n",
       "\n",
       "    .dataframe thead th {\n",
       "        text-align: right;\n",
       "    }\n",
       "</style>\n",
       "<table border=\"1\" class=\"dataframe\">\n",
       "  <thead>\n",
       "    <tr style=\"text-align: right;\">\n",
       "      <th></th>\n",
       "      <th>Students</th>\n",
       "      <th>Exam</th>\n",
       "      <th>Marks</th>\n",
       "    </tr>\n",
       "  </thead>\n",
       "  <tbody>\n",
       "    <tr>\n",
       "      <th>0</th>\n",
       "      <td>student1</td>\n",
       "      <td>IA</td>\n",
       "      <td>96</td>\n",
       "    </tr>\n",
       "    <tr>\n",
       "      <th>1</th>\n",
       "      <td>student1</td>\n",
       "      <td>FA</td>\n",
       "      <td>36</td>\n",
       "    </tr>\n",
       "    <tr>\n",
       "      <th>2</th>\n",
       "      <td>student2</td>\n",
       "      <td>IA</td>\n",
       "      <td>100</td>\n",
       "    </tr>\n",
       "    <tr>\n",
       "      <th>3</th>\n",
       "      <td>student2</td>\n",
       "      <td>FA</td>\n",
       "      <td>48</td>\n",
       "    </tr>\n",
       "    <tr>\n",
       "      <th>4</th>\n",
       "      <td>student3</td>\n",
       "      <td>IA</td>\n",
       "      <td>15</td>\n",
       "    </tr>\n",
       "  </tbody>\n",
       "</table>\n",
       "</div>"
      ],
      "text/plain": [
       "   Students Exam  Marks\n",
       "0  student1   IA     96\n",
       "1  student1   FA     36\n",
       "2  student2   IA    100\n",
       "3  student2   FA     48\n",
       "4  student3   IA     15"
      ]
     },
     "execution_count": 34,
     "metadata": {},
     "output_type": "execute_result"
    }
   ],
   "source": [
    "student_data.head()"
   ]
  },
  {
   "cell_type": "markdown",
   "metadata": {},
   "source": [
    "wheather students has any effect on marks or exam has eny effect on marks"
   ]
  },
  {
   "cell_type": "code",
   "execution_count": 35,
   "metadata": {},
   "outputs": [],
   "source": [
    "# H0:student or exam type does not impact marks\n",
    "# H1:student or exam type does impact marks"
   ]
  },
  {
   "cell_type": "code",
   "execution_count": 36,
   "metadata": {},
   "outputs": [],
   "source": [
    "from statsmodels.stats.anova import AnovaRM"
   ]
  },
  {
   "cell_type": "code",
   "execution_count": 37,
   "metadata": {},
   "outputs": [
    {
     "data": {
      "text/html": [
       "<table class=\"simpletable\">\n",
       "<tr>\n",
       "    <td></td>   <th>Num DF</th> <th>Den DF</th> <th>F Value</th> <th>Pr > F</th>\n",
       "</tr>\n",
       "<tr>\n",
       "  <th>Exam</th> <td>1.0000</td> <td>9.0000</td> <td>3.8012</td>  <td>0.0830</td>\n",
       "</tr>\n",
       "</table>"
      ],
      "text/plain": [
       "<class 'statsmodels.iolib.summary2.Summary'>\n",
       "\"\"\"\n",
       "              Anova\n",
       "=================================\n",
       "     Num DF Den DF F Value Pr > F\n",
       "---------------------------------\n",
       "Exam 1.0000 9.0000  3.8012 0.0830\n",
       "=================================\n",
       "\n",
       "\"\"\""
      ]
     },
     "execution_count": 37,
     "metadata": {},
     "output_type": "execute_result"
    }
   ],
   "source": [
    "#creating two way anova model\n",
    "#if two category come in within func we have to add one id column\n",
    "#AnoveRM(df, numeric_col, Row_identifier, within=[IV1,IV2])\n",
    "\n",
    "\n",
    "#Student as a row identifier\n",
    "model = AnovaRM(student_data, \"Marks\", \"Students\", within=[\"Exam\"])\n",
    "fit = model.fit()\n",
    "fit.summary()"
   ]
  },
  {
   "cell_type": "markdown",
   "metadata": {},
   "source": [
    "### p -Value is greater than significance level--->>accept null"
   ]
  },
  {
   "cell_type": "code",
   "execution_count": 38,
   "metadata": {},
   "outputs": [
    {
     "data": {
      "text/html": [
       "<table class=\"simpletable\">\n",
       "<tr>\n",
       "      <td></td>     <th>Num DF</th> <th>Den DF</th> <th>F Value</th> <th>Pr > F</th>\n",
       "</tr>\n",
       "<tr>\n",
       "  <th>Students</th> <td>9.0000</td> <td>9.0000</td> <td>1.2216</td>  <td>0.3852</td>\n",
       "</tr>\n",
       "</table>"
      ],
      "text/plain": [
       "<class 'statsmodels.iolib.summary2.Summary'>\n",
       "\"\"\"\n",
       "                Anova\n",
       "=====================================\n",
       "         Num DF Den DF F Value Pr > F\n",
       "-------------------------------------\n",
       "Students 9.0000 9.0000  1.2216 0.3852\n",
       "=====================================\n",
       "\n",
       "\"\"\""
      ]
     },
     "execution_count": 38,
     "metadata": {},
     "output_type": "execute_result"
    }
   ],
   "source": [
    "#Exam as a row identifier\n",
    "model = AnovaRM(student_data, \"Marks\",\"Exam\" , within=[\"Students\"])\n",
    "fit = model.fit()\n",
    "fit.summary()"
   ]
  },
  {
   "cell_type": "markdown",
   "metadata": {},
   "source": [
    "### p -Value is greater than significance level--->>accept null......."
   ]
  },
  {
   "cell_type": "code",
   "execution_count": null,
   "metadata": {},
   "outputs": [],
   "source": [
    "so both the Exam and Student has no impact on Marks"
   ]
  },
  {
   "cell_type": "markdown",
   "metadata": {},
   "source": [
    "# ============================================================="
   ]
  }
 ],
 "metadata": {
  "kernelspec": {
   "display_name": "Python 3",
   "language": "python",
   "name": "python3"
  },
  "language_info": {
   "codemirror_mode": {
    "name": "ipython",
    "version": 3
   },
   "file_extension": ".py",
   "mimetype": "text/x-python",
   "name": "python",
   "nbconvert_exporter": "python",
   "pygments_lexer": "ipython3",
   "version": "3.7.1"
  }
 },
 "nbformat": 4,
 "nbformat_minor": 2
}
